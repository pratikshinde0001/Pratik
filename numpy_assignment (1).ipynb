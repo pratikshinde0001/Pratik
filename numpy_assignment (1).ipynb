{
  "nbformat": 4,
  "nbformat_minor": 0,
  "metadata": {
    "colab": {
      "provenance": []
    },
    "kernelspec": {
      "name": "python3",
      "display_name": "Python 3"
    },
    "language_info": {
      "name": "python"
    }
  },
  "cells": [
    {
      "cell_type": "code",
      "execution_count": 3,
      "metadata": {
        "id": "WAu3yLBoEs4m",
        "colab": {
          "base_uri": "https://localhost:8080/"
        },
        "outputId": "6fb95db8-1e21-4ee9-c802-810db9c708e2"
      },
      "outputs": [
        {
          "output_type": "execute_result",
          "data": {
            "text/plain": [
              "array([[[0, 1, 2],\n",
              "        [3, 4, 5],\n",
              "        [6, 7, 8]]])"
            ]
          },
          "metadata": {},
          "execution_count": 3
        }
      ],
      "source": [
        "#create any 3 dimensional array and practice indexing\n",
        "import numpy as np\n",
        "b = np.array([[[0,1,2],[3,4,5],[6,7,8]]])\n",
        "b"
      ]
    },
    {
      "cell_type": "code",
      "source": [
        "#create array of suqares of keys of below dictionary\n",
        "d = {1:2,2:3,3:4,4:5}\n",
        "keys =[1,2,3,4,5]\n",
        "square = [i**2 for i in keys]\n",
        "array = np.array(square)\n",
        "array"
      ],
      "metadata": {
        "id": "heew7jo-tBoD",
        "colab": {
          "base_uri": "https://localhost:8080/"
        },
        "outputId": "8e471b19-99d2-4947-cd34-d8ee3e589270"
      },
      "execution_count": 5,
      "outputs": [
        {
          "output_type": "execute_result",
          "data": {
            "text/plain": [
              "array([ 1,  4,  9, 16, 25])"
            ]
          },
          "metadata": {},
          "execution_count": 5
        }
      ]
    },
    {
      "cell_type": "code",
      "source": [
        "# multiply any 2 dim array to identity matrix (2*2) and comment on result\n",
        "arr_1 = np.array([[1,1,2],[2,3,4]])\n",
        "arr_2 = np.array([[2,3,4],[4,5,6]])\n",
        "arr_3 = arr_1*arr_2\n",
        "arr_3\n"
      ],
      "metadata": {
        "id": "lVm5ozRmtZEK",
        "colab": {
          "base_uri": "https://localhost:8080/"
        },
        "outputId": "b4d08012-74a4-4c98-eddd-4376031fee83"
      },
      "execution_count": 8,
      "outputs": [
        {
          "output_type": "execute_result",
          "data": {
            "text/plain": [
              "array([[ 2,  3,  8],\n",
              "       [ 8, 15, 24]])"
            ]
          },
          "metadata": {},
          "execution_count": 8
        }
      ]
    }
  ]
}